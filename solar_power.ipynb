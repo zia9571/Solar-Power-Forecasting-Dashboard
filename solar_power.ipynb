{
  "nbformat": 4,
  "nbformat_minor": 0,
  "metadata": {
    "colab": {
      "provenance": []
    },
    "kernelspec": {
      "name": "python3",
      "display_name": "Python 3"
    },
    "language_info": {
      "name": "python"
    }
  },
  "cells": [
    {
      "cell_type": "code",
      "execution_count": 1,
      "metadata": {
        "colab": {
          "base_uri": "https://localhost:8080/"
        },
        "id": "OGP7zCmPazlr",
        "outputId": "fcfd3de6-399e-44fd-f8af-3a601f83c065"
      },
      "outputs": [
        {
          "output_type": "stream",
          "name": "stdout",
          "text": [
            "Final Merged Dataframe Head:\n",
            "   DATE_TIME  PLANT_ID_x     SOURCE_KEY_x  DC_POWER  AC_POWER  DAILY_YIELD  \\\n",
            "0 2020-05-15     4135001  1BY6WEcLGh8j5v7       0.0       0.0          0.0   \n",
            "1 2020-05-15     4135001  1IF53ai7Xc0U56Y       0.0       0.0          0.0   \n",
            "2 2020-05-15     4135001  3PZuoBAID5Wc2HD       0.0       0.0          0.0   \n",
            "3 2020-05-15     4135001  7JYdWkrLSPkdwr4       0.0       0.0          0.0   \n",
            "4 2020-05-15     4135001  McdE0feGgRqW7Ca       0.0       0.0          0.0   \n",
            "\n",
            "   TOTAL_YIELD  PLANT_ID_y     SOURCE_KEY_y  AMBIENT_TEMPERATURE  \\\n",
            "0    6259559.0     4135001  HmiyD2TTLFNqkNe            25.184316   \n",
            "1    6183645.0     4135001  HmiyD2TTLFNqkNe            25.184316   \n",
            "2    6987759.0     4135001  HmiyD2TTLFNqkNe            25.184316   \n",
            "3    7602960.0     4135001  HmiyD2TTLFNqkNe            25.184316   \n",
            "4    7158964.0     4135001  HmiyD2TTLFNqkNe            25.184316   \n",
            "\n",
            "   MODULE_TEMPERATURE  IRRADIATION  \n",
            "0           22.857507          0.0  \n",
            "1           22.857507          0.0  \n",
            "2           22.857507          0.0  \n",
            "3           22.857507          0.0  \n",
            "4           22.857507          0.0  \n",
            "\n",
            "Final Dataframe Shape: (136472, 12)\n"
          ]
        },
        {
          "output_type": "stream",
          "name": "stderr",
          "text": [
            "/tmp/ipython-input-1658812254.py:11: UserWarning: Parsing dates in %d-%m-%Y %H:%M format when dayfirst=False (the default) was specified. Pass `dayfirst=True` or specify a format to silence this warning.\n",
            "  solar_df_plant1['DATE_TIME'] = pd.to_datetime(solar_df_plant1['DATE_TIME'])\n"
          ]
        }
      ],
      "source": [
        "import pandas as pd\n",
        "\n",
        "solar_df_plant1 = pd.read_csv('Plant_1_Generation_Data.csv')\n",
        "weather_df_plant1 = pd.read_csv('Plant_1_Weather_Sensor_Data.csv')\n",
        "\n",
        "solar_df_plant2 = pd.read_csv('Plant_2_Generation_Data.csv')\n",
        "weather_df_plant2 = pd.read_csv('Plant_2_Weather_Sensor_Data.csv')\n",
        "\n",
        "solar_df_plant1['DATE_TIME'] = pd.to_datetime(solar_df_plant1['DATE_TIME'])\n",
        "weather_df_plant1['DATE_TIME'] = pd.to_datetime(weather_df_plant1['DATE_TIME'])\n",
        "\n",
        "solar_df_plant2['DATE_TIME'] = pd.to_datetime(solar_df_plant2['DATE_TIME'])\n",
        "weather_df_plant2['DATE_TIME'] = pd.to_datetime(weather_df_plant2['DATE_TIME'])\n",
        "\n",
        "# merge\n",
        "merged_df_plant1 = pd.merge(solar_df_plant1, weather_df_plant1, on='DATE_TIME', how='inner')\n",
        "merged_df_plant2 = pd.merge(solar_df_plant2, weather_df_plant2, on='DATE_TIME', how='inner')\n",
        "\n",
        "# combine\n",
        "final_df = pd.concat([merged_df_plant1, merged_df_plant2], ignore_index=True)\n",
        "\n",
        "print(\"Final Merged Dataframe Head:\")\n",
        "print(final_df.head())\n",
        "print(\"\\nFinal Dataframe Shape:\", final_df.shape)"
      ]
    },
    {
      "cell_type": "code",
      "source": [
        "df_final = final_df.copy()\n",
        "\n",
        "# fix the DATE_TIME\n",
        "df_final['DATE_TIME'] = pd.to_datetime(df_final['DATE_TIME'], format='%d-%m-%Y %H:%M')\n",
        "\n",
        "# set the 'DATE_TIME' column as the dataframe index\n",
        "df_final.set_index('DATE_TIME', inplace=True)\n",
        "\n",
        "# drop redundant or unnecessary columns\n",
        "df_final.drop(['PLANT_ID_x', 'SOURCE_KEY_x', 'PLANT_ID_y', 'SOURCE_KEY_y'], axis=1, inplace=True)\n",
        "\n",
        "# filter out nighttime hours where solar power is zero\n",
        "df_final = df_final[df_final['IRRADIATION'] > 0]\n",
        "\n",
        "print(\"Cleaned Dataframe Head:\")\n",
        "print(df_final.head())\n",
        "print(\"\\nCleaned Dataframe Shape:\", df_final.shape)"
      ],
      "metadata": {
        "colab": {
          "base_uri": "https://localhost:8080/"
        },
        "id": "Vwdx2b71dQEe",
        "outputId": "17812b42-08ad-49b2-9fd5-f6475a10f469"
      },
      "execution_count": 2,
      "outputs": [
        {
          "output_type": "stream",
          "name": "stdout",
          "text": [
            "Cleaned Dataframe Head:\n",
            "                     DC_POWER  AC_POWER  DAILY_YIELD  TOTAL_YIELD  \\\n",
            "DATE_TIME                                                           \n",
            "2020-05-15 05:45:00       0.0       0.0          0.0    6259559.0   \n",
            "2020-05-15 05:45:00       0.0       0.0          0.0    6183645.0   \n",
            "2020-05-15 05:45:00       0.0       0.0          0.0    6987759.0   \n",
            "2020-05-15 05:45:00       0.0       0.0          0.0    7602960.0   \n",
            "2020-05-15 05:45:00       0.0       0.0          0.0    7158964.0   \n",
            "\n",
            "                     AMBIENT_TEMPERATURE  MODULE_TEMPERATURE  IRRADIATION  \n",
            "DATE_TIME                                                                  \n",
            "2020-05-15 05:45:00            24.289211           23.096692     0.000863  \n",
            "2020-05-15 05:45:00            24.289211           23.096692     0.000863  \n",
            "2020-05-15 05:45:00            24.289211           23.096692     0.000863  \n",
            "2020-05-15 05:45:00            24.289211           23.096692     0.000863  \n",
            "2020-05-15 05:45:00            24.289211           23.096692     0.000863  \n",
            "\n",
            "Cleaned Dataframe Shape: (77098, 7)\n"
          ]
        }
      ]
    },
    {
      "cell_type": "code",
      "source": [
        "# create new time-based features from the index\n",
        "df_final['hour'] = df_final.index.hour\n",
        "df_final['dayofyear'] = df_final.index.dayofyear\n",
        "df_final['month'] = df_final.index.month\n",
        "df_final['dayofweek'] = df_final.index.dayofweek\n",
        "\n",
        "# create a lagged feature for AC_POWER from the previous time step\n",
        "df_final['AC_POWER_lag1'] = df_final['AC_POWER'].shift(1)\n",
        "\n",
        "# the first row will now have a NaN value\n",
        "df_final.dropna(inplace=True)\n",
        "\n",
        "print(\"Dataframe with new features:\")\n",
        "print(df_final.head())\n",
        "print(\"\\nFinal Dataframe Shape:\", df_final.shape)"
      ],
      "metadata": {
        "colab": {
          "base_uri": "https://localhost:8080/"
        },
        "id": "JYwZqUVtdqT0",
        "outputId": "eaa4d55b-0132-490e-d740-1ad848225948"
      },
      "execution_count": 3,
      "outputs": [
        {
          "output_type": "stream",
          "name": "stdout",
          "text": [
            "Dataframe with new features:\n",
            "                     DC_POWER  AC_POWER  DAILY_YIELD  TOTAL_YIELD  \\\n",
            "DATE_TIME                                                           \n",
            "2020-05-15 05:45:00       0.0       0.0          0.0    6183645.0   \n",
            "2020-05-15 05:45:00       0.0       0.0          0.0    6987759.0   \n",
            "2020-05-15 05:45:00       0.0       0.0          0.0    7602960.0   \n",
            "2020-05-15 05:45:00       0.0       0.0          0.0    7158964.0   \n",
            "2020-05-15 05:45:00       0.0       0.0          0.0    7206408.0   \n",
            "\n",
            "                     AMBIENT_TEMPERATURE  MODULE_TEMPERATURE  IRRADIATION  \\\n",
            "DATE_TIME                                                                   \n",
            "2020-05-15 05:45:00            24.289211           23.096692     0.000863   \n",
            "2020-05-15 05:45:00            24.289211           23.096692     0.000863   \n",
            "2020-05-15 05:45:00            24.289211           23.096692     0.000863   \n",
            "2020-05-15 05:45:00            24.289211           23.096692     0.000863   \n",
            "2020-05-15 05:45:00            24.289211           23.096692     0.000863   \n",
            "\n",
            "                     hour  dayofyear  month  dayofweek  AC_POWER_lag1  \n",
            "DATE_TIME                                                              \n",
            "2020-05-15 05:45:00     5        136      5          4            0.0  \n",
            "2020-05-15 05:45:00     5        136      5          4            0.0  \n",
            "2020-05-15 05:45:00     5        136      5          4            0.0  \n",
            "2020-05-15 05:45:00     5        136      5          4            0.0  \n",
            "2020-05-15 05:45:00     5        136      5          4            0.0  \n",
            "\n",
            "Final Dataframe Shape: (77097, 12)\n"
          ]
        }
      ]
    },
    {
      "cell_type": "code",
      "source": [
        "from sklearn.model_selection import train_test_split\n",
        "from sklearn.linear_model import LinearRegression\n",
        "\n",
        "# define our features (X) and target (y)\n",
        "features = ['AC_POWER_lag1', 'AMBIENT_TEMPERATURE', 'IRRADIATION', 'hour', 'dayofyear']\n",
        "X = df_final[features]\n",
        "y = df_final['AC_POWER']\n",
        "\n",
        "# perform a sequential split for time-series data(80% of the data for training and 20% for testing)\n",
        "split_point = int(len(df_final) * 0.8)\n",
        "X_train = X[:split_point]\n",
        "X_test = X[split_point:]\n",
        "y_train = y[:split_point]\n",
        "y_test = y[split_point:]\n",
        "\n",
        "# initialize and train the Linear Regression model\n",
        "model = LinearRegression()\n",
        "model.fit(X_train, y_train)\n",
        "\n",
        "# print the shapes to confirm the split was correct\n",
        "print(\"Shape of X_train:\", X_train.shape)\n",
        "print(\"Shape of X_test:\", X_test.shape)\n",
        "print(\"Model training complete.\")"
      ],
      "metadata": {
        "colab": {
          "base_uri": "https://localhost:8080/"
        },
        "id": "qTIaZe9Vd8AV",
        "outputId": "c0498da2-a1f7-4ca0-9deb-29b146f06d40"
      },
      "execution_count": 4,
      "outputs": [
        {
          "output_type": "stream",
          "name": "stdout",
          "text": [
            "Shape of X_train: (61677, 5)\n",
            "Shape of X_test: (15420, 5)\n",
            "Model training complete.\n"
          ]
        }
      ]
    },
    {
      "cell_type": "code",
      "source": [
        "import numpy as np\n",
        "from sklearn.metrics import mean_absolute_error, mean_squared_error, r2_score\n",
        "\n",
        "predictions = model.predict(X_test)\n",
        "\n",
        "# Evaluate the Linear Regression Model\n",
        "print(\"--- Linear Regression Model Evaluation ---\")\n",
        "mae = mean_absolute_error(y_test, predictions)\n",
        "rmse = np.sqrt(mean_squared_error(y_test, predictions))\n",
        "r2 = r2_score(y_test, predictions)\n",
        "\n",
        "print(f\"Mean Absolute Error (MAE): {mae:.2f} kW\")\n",
        "print(f\"Root Mean Squared Error (RMSE): {rmse:.2f} kW\")\n",
        "print(f\"R-squared (R2): {r2:.2f}\")\n",
        "\n",
        "# Evaluate Baseline\n",
        "print(\"\\n--- Persistence Model Evaluation (Baseline) ---\")\n",
        "baseline_predictions = X_test['AC_POWER_lag1']\n",
        "\n",
        "baseline_mae = mean_absolute_error(y_test, baseline_predictions)\n",
        "baseline_rmse = np.sqrt(mean_squared_error(y_test, baseline_predictions))\n",
        "baseline_r2 = r2_score(y_test, baseline_predictions)\n",
        "\n",
        "print(f\"Mean Absolute Error (MAE): {baseline_mae:.2f} kW\")\n",
        "print(f\"Root Mean Squared Error (RMSE): {baseline_rmse:.2f} kW\")\n",
        "print(f\"R-squared (R2): {baseline_r2:.2f}\")"
      ],
      "metadata": {
        "colab": {
          "base_uri": "https://localhost:8080/"
        },
        "id": "-gLeVX7keSrj",
        "outputId": "27230bfd-399d-471f-f348-c775ddcc6901"
      },
      "execution_count": 5,
      "outputs": [
        {
          "output_type": "stream",
          "name": "stdout",
          "text": [
            "--- Linear Regression Model Evaluation ---\n",
            "Mean Absolute Error (MAE): 151.87 kW\n",
            "Root Mean Squared Error (RMSE): 285.93 kW\n",
            "R-squared (R2): 0.33\n",
            "\n",
            "--- Persistence Model Evaluation (Baseline) ---\n",
            "Mean Absolute Error (MAE): 145.36 kW\n",
            "Root Mean Squared Error (RMSE): 345.59 kW\n",
            "R-squared (R2): 0.02\n"
          ]
        }
      ]
    },
    {
      "cell_type": "code",
      "source": [
        "# find the index of the highest predicted value\n",
        "peak_solar_index = predictions.argmax()\n",
        "\n",
        "# get the corresponding timestamp from the test set\n",
        "peak_solar_time = X_test.index[peak_solar_index]\n",
        "\n",
        "print(f\"The hour with the highest predicted solar output is: {peak_solar_time.hour}:00\")"
      ],
      "metadata": {
        "colab": {
          "base_uri": "https://localhost:8080/"
        },
        "id": "y-vIpgFzetMX",
        "outputId": "5317b76e-3d56-4c5b-a94c-2ca1007a0eb8"
      },
      "execution_count": 6,
      "outputs": [
        {
          "output_type": "stream",
          "name": "stdout",
          "text": [
            "The hour with the highest predicted solar output is: 12:00\n"
          ]
        }
      ]
    },
    {
      "cell_type": "code",
      "source": [
        "df_final.to_csv('solar_power_data.csv')"
      ],
      "metadata": {
        "id": "18UmSRXie5xT"
      },
      "execution_count": 7,
      "outputs": []
    }
  ]
}